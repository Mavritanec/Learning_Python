{
 "cells": [
  {
   "cell_type": "code",
   "execution_count": 2,
   "metadata": {},
   "outputs": [],
   "source": [
    "from datetime import datetime\n",
    "import time\n",
    "from typing import Callable\n",
    "import functools"
   ]
  },
  {
   "cell_type": "code",
   "execution_count": 3,
   "metadata": {},
   "outputs": [],
   "source": [
    "def log_method(time_format: str, cls_name: str) -> Callable:\n",
    "    \"\"\" Декоратор. Выводит имена класса, метода, время запуска и время его работы. \"\"\"\n",
    "\n",
    "    def method_decorator(func: Callable) -> Callable:\n",
    "        @functools.wraps(func)\n",
    "        def wrapped_func(*args, **kwargs):\n",
    "            formatted_time = ''.join('%' + sbl if sbl.isalpha() else sbl for sbl in time_format)\n",
    "            print('- Запускается {}.{}. Дата и время запуска: {}'\n",
    "                  .format(cls_name, func.__name__, datetime.now().strftime(formatted_time)))\n",
    "            start = time.time()\n",
    "            result = func(*args, **kwargs)\n",
    "            end = time.time()\n",
    "            print('- Завершение {}.{}, время работы = {}s'\n",
    "                  .format(cls_name, func.__name__, round(end - start, 3)))\n",
    "            return result\n",
    "        return wrapped_func\n",
    "    return method_decorator"
   ]
  },
  {
   "cell_type": "code",
   "execution_count": 4,
   "metadata": {
    "pycharm": {
     "name": "#%%\n"
    }
   },
   "outputs": [],
   "source": [
    "def log_methods(time_format: str) -> Callable:\n",
    "    \"\"\" Декоратор. Применяет декоратор log_method ко всем методам класса. \"\"\"\n",
    "\n",
    "    def wrapped(cls):\n",
    "        for i_method in dir(cls):\n",
    "            if i_method.endswith('__') is False:\n",
    "                method = getattr(cls, i_method)\n",
    "                if callable(method):\n",
    "                    decorated_method = log_method(time_format, cls.__name__)(method)\n",
    "                    setattr(cls, i_method, decorated_method)\n",
    "        return cls\n",
    "    return wrapped"
   ]
  },
  {
   "cell_type": "code",
   "execution_count": 5,
   "metadata": {},
   "outputs": [
    {
     "name": "stdout",
     "output_type": "stream",
     "text": [
      "- Запускается ExampleClass.sum_1. Дата и время запуска: Aug 05 2021 - 12:01:29\n"
     ]
    },
    {
     "ename": "TypeError",
     "evalue": "sum_1() takes 1 positional argument but 2 were given",
     "output_type": "error",
     "traceback": [
      "\u001b[1;31m---------------------------------------------------------------------------\u001b[0m",
      "\u001b[1;31mTypeError\u001b[0m                                 Traceback (most recent call last)",
      "\u001b[1;32m~\\AppData\\Local\\Temp/ipykernel_6724/2348311735.py\u001b[0m in \u001b[0;36m<module>\u001b[1;34m\u001b[0m\n\u001b[0;32m     22\u001b[0m \u001b[1;33m\u001b[0m\u001b[0m\n\u001b[0;32m     23\u001b[0m     \u001b[0mmy_obj\u001b[0m \u001b[1;33m=\u001b[0m \u001b[0mExampleClass\u001b[0m\u001b[1;33m(\u001b[0m\u001b[1;33m)\u001b[0m\u001b[1;33m\u001b[0m\u001b[1;33m\u001b[0m\u001b[0m\n\u001b[1;32m---> 24\u001b[1;33m     \u001b[0mmy_obj\u001b[0m\u001b[1;33m.\u001b[0m\u001b[0msum_1\u001b[0m\u001b[1;33m(\u001b[0m\u001b[1;33m)\u001b[0m\u001b[1;33m\u001b[0m\u001b[1;33m\u001b[0m\u001b[0m\n\u001b[0m\u001b[0;32m     25\u001b[0m     \u001b[0mmy_obj\u001b[0m\u001b[1;33m.\u001b[0m\u001b[0msum_2\u001b[0m\u001b[1;33m(\u001b[0m\u001b[1;33m)\u001b[0m\u001b[1;33m\u001b[0m\u001b[1;33m\u001b[0m\u001b[0m\n",
      "\u001b[1;32m~\\AppData\\Local\\Temp/ipykernel_6724/837129419.py\u001b[0m in \u001b[0;36mwrapped_func\u001b[1;34m(*args, **kwargs)\u001b[0m\n\u001b[0;32m      9\u001b[0m                   .format(cls_name, func.__name__, datetime.now().strftime(formatted_time)))\n\u001b[0;32m     10\u001b[0m             \u001b[0mstart\u001b[0m \u001b[1;33m=\u001b[0m \u001b[0mtime\u001b[0m\u001b[1;33m.\u001b[0m\u001b[0mtime\u001b[0m\u001b[1;33m(\u001b[0m\u001b[1;33m)\u001b[0m\u001b[1;33m\u001b[0m\u001b[1;33m\u001b[0m\u001b[0m\n\u001b[1;32m---> 11\u001b[1;33m             \u001b[0mresult\u001b[0m \u001b[1;33m=\u001b[0m \u001b[0mfunc\u001b[0m\u001b[1;33m(\u001b[0m\u001b[1;33m*\u001b[0m\u001b[0margs\u001b[0m\u001b[1;33m,\u001b[0m \u001b[1;33m**\u001b[0m\u001b[0mkwargs\u001b[0m\u001b[1;33m)\u001b[0m\u001b[1;33m\u001b[0m\u001b[1;33m\u001b[0m\u001b[0m\n\u001b[0m\u001b[0;32m     12\u001b[0m             \u001b[0mend\u001b[0m \u001b[1;33m=\u001b[0m \u001b[0mtime\u001b[0m\u001b[1;33m.\u001b[0m\u001b[0mtime\u001b[0m\u001b[1;33m(\u001b[0m\u001b[1;33m)\u001b[0m\u001b[1;33m\u001b[0m\u001b[1;33m\u001b[0m\u001b[0m\n\u001b[0;32m     13\u001b[0m             print('- Завершение {}.{}, время работы = {}s'\n",
      "\u001b[1;31mTypeError\u001b[0m: sum_1() takes 1 positional argument but 2 were given"
     ]
    }
   ],
   "source": [
    "if __name__ == '__main__':\n",
    "\n",
    "    @log_methods(\"b d Y - H:M:S\")\n",
    "    class ExampleClass:\n",
    "        @classmethod\n",
    "        def sum_1(cls) -> int:\n",
    "            print(\"sum 1\")\n",
    "            number = 100\n",
    "            result = 0\n",
    "            for _ in range(number + 1):\n",
    "                result += sum([i_num ** 2 for i_num in range(10000)])\n",
    "            return result\n",
    "\n",
    "        def sum_2(self):\n",
    "            print(\"sum 2\")\n",
    "            number = 200\n",
    "            result = 0\n",
    "            for _ in range(number + 1):\n",
    "                result += sum([i_num ** 2 for i_num in range(10000)])\n",
    "            return result\n",
    "\n",
    "\n",
    "    my_obj = ExampleClass()\n",
    "    my_obj.sum_1()\n",
    "    my_obj.sum_2()"
   ]
  },
  {
   "cell_type": "code",
   "execution_count": null,
   "metadata": {},
   "outputs": [],
   "source": []
  }
 ],
 "metadata": {
  "kernelspec": {
   "display_name": "Python 3 (ipykernel)",
   "language": "python",
   "name": "python3"
  },
  "language_info": {
   "codemirror_mode": {
    "name": "ipython",
    "version": 3
   },
   "file_extension": ".py",
   "mimetype": "text/x-python",
   "name": "python",
   "nbconvert_exporter": "python",
   "pygments_lexer": "ipython3",
   "version": "3.9.6"
  }
 },
 "nbformat": 4,
 "nbformat_minor": 1
}
