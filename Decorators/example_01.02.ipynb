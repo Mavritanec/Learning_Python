{
 "cells": [
  {
   "cell_type": "code",
   "execution_count": 35,
   "metadata": {},
   "outputs": [],
   "source": [
    "from datetime import datetime\n",
    "import time\n",
    "from typing import Callable, Any\n",
    "import functools"
   ]
  },
  {
   "cell_type": "code",
   "execution_count": 36,
   "metadata": {},
   "outputs": [],
   "source": [
    "# в первом приближении\n",
    "# создадим простой декоратор для оборачивания методов в классе"
   ]
  },
  {
   "cell_type": "code",
   "execution_count": 37,
   "metadata": {},
   "outputs": [],
   "source": [
    "def log_method(time_format: str) -> Callable:\n",
    "    \"\"\" Декоратор. Выводит имена класса, метода, время запуска и время его работы. \"\"\"\n",
    "\n",
    "    def method_decorator(func: Callable) -> Callable:\n",
    "        @functools.wraps(func)\n",
    "        def wrapped_func(*args, **kwargs) -> Any:\n",
    "            # cls_name = cls.__name__\n",
    "            cls_name = 'cls_name'\n",
    "            # func_name = func.__name__\n",
    "            func_name = 'func_name'\n",
    "            formatted_time = ''.join('%' + sbl if sbl.isalpha() else sbl for sbl in time_format)\n",
    "            print('- Запускается {}.{}. Дата и время запуска: {}'\n",
    "                  .format(cls_name, func_name, datetime.now().strftime(formatted_time)))\n",
    "            start = time.time()\n",
    "            result = func(*args, **kwargs)\n",
    "            end = time.time()\n",
    "            print('- Завершение {}.{}, время работы = {}s'\n",
    "                  .format(cls_name, func_name, round(end - start, 3)))\n",
    "            return result\n",
    "        return wrapped_func\n",
    "    return method_decorator"
   ]
  },
  {
   "cell_type": "code",
   "execution_count": null,
   "metadata": {},
   "outputs": [],
   "source": []
  },
  {
   "cell_type": "code",
   "execution_count": null,
   "metadata": {},
   "outputs": [],
   "source": []
  },
  {
   "cell_type": "code",
   "execution_count": 38,
   "metadata": {},
   "outputs": [],
   "source": [
    "# приведем универсальный класс для примера\n",
    "# с различными методами и атрибутами"
   ]
  },
  {
   "cell_type": "code",
   "execution_count": null,
   "metadata": {},
   "outputs": [],
   "source": []
  },
  {
   "cell_type": "code",
   "execution_count": 40,
   "metadata": {
    "pycharm": {
     "name": "#%%\n"
    }
   },
   "outputs": [
    {
     "name": "stdout",
     "output_type": "stream",
     "text": [
      "- Запускается cls_name.func_name. Дата и время запуска: Aug 05 2021 - 15:06:48\n"
     ]
    },
    {
     "ename": "TypeError",
     "evalue": "'classmethod' object is not callable",
     "output_type": "error",
     "traceback": [
      "\u001B[1;31m---------------------------------------------------------------------------\u001B[0m",
      "\u001B[1;31mTypeError\u001B[0m                                 Traceback (most recent call last)",
      "\u001B[1;32m~\\AppData\\Local\\Temp/ipykernel_9104/3995727196.py\u001B[0m in \u001B[0;36m<module>\u001B[1;34m\u001B[0m\n\u001B[0;32m     22\u001B[0m \u001B[1;33m\u001B[0m\u001B[0m\n\u001B[0;32m     23\u001B[0m     \u001B[0mmy_obj\u001B[0m \u001B[1;33m=\u001B[0m \u001B[0mExampleClass\u001B[0m\u001B[1;33m(\u001B[0m\u001B[1;33m)\u001B[0m\u001B[1;33m\u001B[0m\u001B[1;33m\u001B[0m\u001B[0m\n\u001B[1;32m---> 24\u001B[1;33m     \u001B[0mmy_obj\u001B[0m\u001B[1;33m.\u001B[0m\u001B[0msum_1\u001B[0m\u001B[1;33m(\u001B[0m\u001B[1;33m)\u001B[0m\u001B[1;33m\u001B[0m\u001B[1;33m\u001B[0m\u001B[0m\n\u001B[0m\u001B[0;32m     25\u001B[0m     \u001B[0mmy_obj\u001B[0m\u001B[1;33m.\u001B[0m\u001B[0msum_2\u001B[0m\u001B[1;33m(\u001B[0m\u001B[1;33m)\u001B[0m\u001B[1;33m\u001B[0m\u001B[1;33m\u001B[0m\u001B[0m\n",
      "\u001B[1;32m~\\AppData\\Local\\Temp/ipykernel_9104/2868858388.py\u001B[0m in \u001B[0;36mwrapped_func\u001B[1;34m(*args, **kwargs)\u001B[0m\n\u001B[0;32m     13\u001B[0m                   .format(cls_name, func_name, datetime.now().strftime(formatted_time)))\n\u001B[0;32m     14\u001B[0m             \u001B[0mstart\u001B[0m \u001B[1;33m=\u001B[0m \u001B[0mtime\u001B[0m\u001B[1;33m.\u001B[0m\u001B[0mtime\u001B[0m\u001B[1;33m(\u001B[0m\u001B[1;33m)\u001B[0m\u001B[1;33m\u001B[0m\u001B[1;33m\u001B[0m\u001B[0m\n\u001B[1;32m---> 15\u001B[1;33m             \u001B[0mresult\u001B[0m \u001B[1;33m=\u001B[0m \u001B[0mfunc\u001B[0m\u001B[1;33m(\u001B[0m\u001B[1;33m*\u001B[0m\u001B[0margs\u001B[0m\u001B[1;33m,\u001B[0m \u001B[1;33m**\u001B[0m\u001B[0mkwargs\u001B[0m\u001B[1;33m)\u001B[0m\u001B[1;33m\u001B[0m\u001B[1;33m\u001B[0m\u001B[0m\n\u001B[0m\u001B[0;32m     16\u001B[0m             \u001B[0mend\u001B[0m \u001B[1;33m=\u001B[0m \u001B[0mtime\u001B[0m\u001B[1;33m.\u001B[0m\u001B[0mtime\u001B[0m\u001B[1;33m(\u001B[0m\u001B[1;33m)\u001B[0m\u001B[1;33m\u001B[0m\u001B[1;33m\u001B[0m\u001B[0m\n\u001B[0;32m     17\u001B[0m             print('- Завершение {}.{}, время работы = {}s'\n",
      "\u001B[1;31mTypeError\u001B[0m: 'classmethod' object is not callable"
     ]
    }
   ],
   "source": [
    "if __name__ == '__main__':\n",
    "\n",
    "    class ExampleClass:\n",
    "        @log_method(\"b d Y - H:M:S\")\n",
    "        @classmethod\n",
    "        def sum_1(cls) -> int:\n",
    "            print(\"sum 1\")\n",
    "            number = 100\n",
    "            result = 0\n",
    "            for _ in range(number + 1):\n",
    "                result += sum([i_num ** 2 for i_num in range(10000)])\n",
    "            return result\n",
    "\n",
    "        def sum_2(self):\n",
    "            print(\"sum 2\")\n",
    "            number = 200\n",
    "            result = 0\n",
    "            for _ in range(number + 1):\n",
    "                result += sum([i_num ** 2 for i_num in range(10000)])\n",
    "            return result\n",
    "\n",
    "\n",
    "    my_obj = ExampleClass()\n",
    "    my_obj.sum_1()\n",
    "    my_obj.sum_2()\n"
   ]
  },
  {
   "cell_type": "code",
   "execution_count": null,
   "metadata": {},
   "outputs": [],
   "source": []
  }
 ],
 "metadata": {
  "kernelspec": {
   "display_name": "Python 3 (ipykernel)",
   "language": "python",
   "name": "python3"
  },
  "language_info": {
   "codemirror_mode": {
    "name": "ipython",
    "version": 3
   },
   "file_extension": ".py",
   "mimetype": "text/x-python",
   "name": "python",
   "nbconvert_exporter": "python",
   "pygments_lexer": "ipython3",
   "version": "3.9.6"
  }
 },
 "nbformat": 4,
 "nbformat_minor": 1
}